{
  "nbformat": 4,
  "nbformat_minor": 0,
  "metadata": {
    "colab": {
      "provenance": [],
      "authorship_tag": "ABX9TyOzhQMorzC01Q3XJ5A8ljRI",
      "include_colab_link": true
    },
    "kernelspec": {
      "name": "python3",
      "display_name": "Python 3"
    },
    "language_info": {
      "name": "python"
    }
  },
  "cells": [
    {
      "cell_type": "markdown",
      "metadata": {
        "id": "view-in-github",
        "colab_type": "text"
      },
      "source": [
        "<a href=\"https://colab.research.google.com/github/shakirabanu20/Movie-recommendation-/blob/main/Movie_recommendation.ipynb\" target=\"_parent\"><img src=\"https://colab.research.google.com/assets/colab-badge.svg\" alt=\"Open In Colab\"/></a>"
      ]
    },
    {
      "cell_type": "code",
      "execution_count": null,
      "metadata": {
        "id": "FjduUfQN0k4c"
      },
      "outputs": [],
      "source": [
        "# STEP 1: Install required packages\n",
        "!pip install gradio pandas scikit-learn --quiet\n",
        "\n",
        "# STEP 2: Upload your CSV file\n",
        "from google.colab import files\n",
        "uploaded = files.upload()  # Upload your properly formatted movie_dataset.csv here\n",
        "\n",
        "# STEP 3: Import required libraries\n",
        "import pandas as pd\n",
        "from sklearn.feature_extraction.text import TfidfVectorizer\n",
        "from sklearn.metrics.pairwise import cosine_similarity\n",
        "import gradio as gr\n",
        "\n",
        "# STEP 4: Load dataset with error handling for malformed rows\n",
        "df = pd.read_csv(\"movies_data.csv\", encoding='utf-8', on_bad_lines='skip')\n",
        "\n",
        "# Normalize movie titles for case-insensitive matching\n",
        "df['title_lower'] = df['title'].str.lower()\n",
        "\n",
        "# STEP 5: Create TF-IDF matrix based on genres column\n",
        "tfidf = TfidfVectorizer(stop_words='english')\n",
        "tfidf_matrix = tfidf.fit_transform(df['genres'])\n",
        "\n",
        "# Calculate cosine similarity matrix\n",
        "cosine_sim = cosine_similarity(tfidf_matrix, tfidf_matrix)\n",
        "\n",
        "# Create a reverse mapping from title_lower to dataframe index\n",
        "indices = pd.Series(df.index, index=df['title_lower']).drop_duplicates()\n",
        "\n",
        "# STEP 6: Define recommendation function\n",
        "def recommend_movie(title):\n",
        "    title_lower = title.lower().strip()\n",
        "    if title_lower not in indices:\n",
        "        return \"❌ Movie not found. Please try another title.\"\n",
        "\n",
        "    idx = indices[title_lower]\n",
        "    sim_scores = list(enumerate(cosine_sim[idx]))\n",
        "    sim_scores = sorted(sim_scores, key=lambda x: x[1], reverse=True)[1:6]\n",
        "    movie_indices = [i[0] for i in sim_scores]\n",
        "\n",
        "    result = \"\"\n",
        "    for i in movie_indices:\n",
        "        result += f\"🎬 **{df['title'].iloc[i]}**\\n\"\n",
        "        result += f\"⭐ Rating: {df['rating'].iloc[i]}/10\\n\"\n",
        "        result += f\"🎭 Genre: {df['genres'].iloc[i]}\\n\"\n",
        "        result += f\"📝 Tagline: _{df['tagline'].iloc[i]}_\\n\\n\"\n",
        "    return result.strip()\n",
        "\n",
        "# STEP 7: Launch Gradio app\n",
        "gr.Interface(\n",
        "    fn=recommend_movie,\n",
        "    inputs=gr.Textbox(lines=1, label=\"🎥 Enter a Movie Title\"),\n",
        "    outputs=gr.Markdown(label=\"🎯 Recommended Movies with Details\"),\n",
        "    title=\"🎬 AI Movie Recommender\",\n",
        "    description=\"Enter a movie title to get personalized recommendations including ratings and taglines.\"\n",
        ").launch(share=True)"
      ]
    }
  ]
}